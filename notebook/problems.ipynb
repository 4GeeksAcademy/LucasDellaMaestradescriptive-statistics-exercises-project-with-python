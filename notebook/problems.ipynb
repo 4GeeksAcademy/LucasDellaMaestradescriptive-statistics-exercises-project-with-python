{
    "cells": [
        {
            "cell_type": "markdown",
            "id": "ac622319",
            "metadata": {},
            "source": [
                "# Descriptive statistics problems"
            ]
        },
        {
            "cell_type": "markdown",
            "id": "5e0ab0d5",
            "metadata": {},
            "source": [
                "### Exercise 1\n",
                "\n",
                "We will use NumPy to obtain information to describe statistically.\n",
                "\n",
                "- Generate an array of 100 elements following a normal distribution.\n",
                "- Generate an array of 100 elements following a chi-square distribution with 3 degrees of freedom.\n",
                "- Calculate the main metrics and statistical measures that best describe the two vectors."
            ]
        },
        {
            "cell_type": "code",
            "execution_count": 1,
            "id": "34720ab6",
            "metadata": {},
            "outputs": [
                {
                    "name": "stdout",
                    "output_type": "stream",
                    "text": [
                        "promedio de distribucion normal = 10.1211657041514\n",
                        "mediana de distribucion normal = 10.12814782312459\n",
                        "moda de distribucion normal = 13.248690727326483\n",
                        "desviacion standar de distribucion normal = 1.77031242766317\n",
                        "promedio de distribucion chi cuadrado = 3.1774250872516454\n",
                        "mediana de distribucion chi cuadrado  = 2.6006114674034078\n",
                        "moda de distribucion chi cuadrado  = 1.4945774552801123\n",
                        "desviacion standar de distribucion chi cuadrado  = 2.6757799553662096\n"
                    ]
                }
            ],
            "source": [
                "import numpy as np\n",
                "import statistics as stats\n",
                "import matplotlib.pyplot as plt\n",
                "np.random.seed(1)\n",
                "normal=np.random.normal(10,2,100)\n",
                "\n",
                "chi_cuadrado=np.random.chisquare(3,100)\n",
                "\n",
                "promedio_normal=np.mean(normal)\n",
                "memdiana_normal=np.median(normal)\n",
                "moda_normal=stats.mode(normal)\n",
                "std_normal=np.std(normal)\n",
                "print (\"promedio de distribucion normal =\",promedio_normal)\n",
                "print (\"mediana de distribucion normal =\",memdiana_normal)\n",
                "print (\"moda de distribucion normal =\",moda_normal)\n",
                "print (\"desviacion standar de distribucion normal =\",std_normal)\n",
                "\n",
                "promedio_chi=np.mean(chi_cuadrado)\n",
                "mediana_chi=np.median(chi_cuadrado)\n",
                "moda_chi=stats.mode(chi_cuadrado)\n",
                "std_chi=np.std(chi_cuadrado)\n",
                "\n",
                "print (\"promedio de distribucion chi cuadrado =\",promedio_chi)\n",
                "print (\"mediana de distribucion chi cuadrado  =\",mediana_chi)\n",
                "print (\"moda de distribucion chi cuadrado  =\",moda_chi)\n",
                "print (\"desviacion standar de distribucion chi cuadrado  =\",std_chi)"
            ]
        },
        {
            "cell_type": "markdown",
            "id": "46c70c3d",
            "metadata": {},
            "source": [
                "### Exercise 2\n",
                "\n",
                "Write a Python program to calculate the standard deviation of the following data:\n",
                "\n",
                "```py\n",
                "data = [4, 2, 5, 8, 6]\n",
                "```"
            ]
        },
        {
            "cell_type": "code",
            "execution_count": 6,
            "id": "d590308e",
            "metadata": {},
            "outputs": [
                {
                    "name": "stdout",
                    "output_type": "stream",
                    "text": [
                        "Datos de Muestra: [6, 4, 7, 2, 8]\n",
                        "Desviación estandar: 2.4083189157584592\n"
                    ]
                }
            ],
            "source": [
                "import math\n",
                "import sys\n",
                "\n",
                "# Defino la funcion de desviacion standar para ingresarle una lista que llamare data\n",
                "\n",
                "def sd_calc(data):\n",
                "    n = len(data)\n",
                "\n",
                "    if (n <= 1):\n",
                "        return 0.0\n",
                "\n",
                "    promedio, sd = avg_calc(data), 0.0\n",
                "\n",
                "    for d in data:\n",
                "        sd += (float(d) - promedio) ** 2\n",
                "    sd = math.sqrt(sd / float(n - 1))\n",
                "\n",
                "    return sd\n",
                "\n",
                "def avg_calc(data):\n",
                "    n, promedio = len(data), 0.0\n",
                "\n",
                "    if (n <= 1):\n",
                "        return data[0]\n",
                "\n",
                "    for d in data:\n",
                "        promedio = promedio + float(d)\n",
                "\n",
                "    promedio = promedio / float(n)\n",
                "    return promedio\n",
                "\n",
                "\n",
                "data = [6, 4, 7, 2, 8]\n",
                "print(f\"Datos de Muestra: {data}\")\n",
                "print(f\"Desviación estandar: {sd_calc(data)}\")"
            ]
        }
    ],
    "metadata": {
        "kernelspec": {
            "display_name": "Python 3",
            "language": "python",
            "name": "python3"
        },
        "language_info": {
            "codemirror_mode": {
                "name": "ipython",
                "version": 3
            },
            "file_extension": ".py",
            "mimetype": "text/x-python",
            "name": "python",
            "nbconvert_exporter": "python",
            "pygments_lexer": "ipython3",
            "version": "3.11.4"
        }
    },
    "nbformat": 4,
    "nbformat_minor": 5
}
